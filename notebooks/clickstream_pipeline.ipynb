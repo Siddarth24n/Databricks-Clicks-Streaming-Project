{
 "cells": [
  {
   "cell_type": "code",
   "execution_count": 0,
   "metadata": {
    "application/vnd.databricks.v1+cell": {
     "cellMetadata": {
      "byteLimit": 2048000,
      "rowLimit": 10000
     },
     "inputWidgets": {},
     "nuid": "f2f39852-43cd-40c3-9ef1-d688bc96857e",
     "showTitle": false,
     "tableResultSettingsMap": {},
     "title": ""
    }
   },
   "outputs": [
    {
     "data": {
      "text/plain": [
       "True"
      ]
     },
     "execution_count": 2,
     "metadata": {},
     "output_type": "execute_result"
    }
   ],
   "source": [
    "# Make sure the input directory exists\n",
    "dbutils.fs.mkdirs(\"dbfs:/tmp/clickstream/input/\")"
   ]
  },
  {
   "cell_type": "code",
   "execution_count": 0,
   "metadata": {
    "application/vnd.databricks.v1+cell": {
     "cellMetadata": {
      "byteLimit": 2048000,
      "rowLimit": 10000
     },
     "inputWidgets": {},
     "nuid": "0d53dd85-cd98-4c42-b60e-613bd2802233",
     "showTitle": false,
     "tableResultSettingsMap": {},
     "title": ""
    }
   },
   "outputs": [
    {
     "name": "stdout",
     "output_type": "stream",
     "text": [
      "Wrote: /dbfs/tmp/clickstream/input/event_1754157849.json\n",
      "Wrote: /dbfs/tmp/clickstream/input/event_1754157851.json\n",
      "Wrote: /dbfs/tmp/clickstream/input/event_1754157853.json\n",
      "Wrote: /dbfs/tmp/clickstream/input/event_1754157855.json\n",
      "Wrote: /dbfs/tmp/clickstream/input/event_1754157857.json\n",
      "Wrote: /dbfs/tmp/clickstream/input/event_1754157859.json\n",
      "Wrote: /dbfs/tmp/clickstream/input/event_1754157861.json\n",
      "Wrote: /dbfs/tmp/clickstream/input/event_1754157863.json\n",
      "Wrote: /dbfs/tmp/clickstream/input/event_1754157866.json\n",
      "Wrote: /dbfs/tmp/clickstream/input/event_1754157868.json\n",
      "Wrote: /dbfs/tmp/clickstream/input/event_1754157870.json\n",
      "Wrote: /dbfs/tmp/clickstream/input/event_1754157872.json\n",
      "Wrote: /dbfs/tmp/clickstream/input/event_1754157874.json\n",
      "Wrote: /dbfs/tmp/clickstream/input/event_1754157876.json\n",
      "Wrote: /dbfs/tmp/clickstream/input/event_1754157878.json\n",
      "Wrote: /dbfs/tmp/clickstream/input/event_1754157880.json\n",
      "Wrote: /dbfs/tmp/clickstream/input/event_1754157882.json\n",
      "Wrote: /dbfs/tmp/clickstream/input/event_1754157884.json\n",
      "Wrote: /dbfs/tmp/clickstream/input/event_1754157886.json\n",
      "Wrote: /dbfs/tmp/clickstream/input/event_1754157888.json\n"
     ]
    }
   ],
   "source": [
    "import json\n",
    "import random\n",
    "import time\n",
    "import os\n",
    "from datetime import datetime\n",
    "\n",
    "input_dir = \"/dbfs/tmp/clickstream/input/\"\n",
    "os.makedirs(input_dir, exist_ok=True)\n",
    "\n",
    "users = [\"alice\", \"bob\", \"charlie\", \"david\"]\n",
    "pages = [\"home\", \"about\", \"product\", \"cart\", \"checkout\"]\n",
    "\n",
    "for i in range(20):\n",
    "    event = {\n",
    "        \"user_id\": random.choice(users),\n",
    "        \"page\": random.choice(pages),\n",
    "        \"timestamp\": datetime.utcnow().isoformat()\n",
    "    }\n",
    "    file_path = os.path.join(input_dir, f\"event_{int(time.time())}.json\")\n",
    "    with open(file_path, \"w\") as f:\n",
    "        f.write(json.dumps(event))\n",
    "    print(f\"Wrote: {file_path}\")\n",
    "    time.sleep(2)\n"
   ]
  },
  {
   "cell_type": "code",
   "execution_count": 0,
   "metadata": {
    "application/vnd.databricks.v1+cell": {
     "cellMetadata": {
      "byteLimit": 2048000,
      "rowLimit": 10000
     },
     "inputWidgets": {},
     "nuid": "b8437fe4-8190-40d4-9856-63ea3159e664",
     "showTitle": false,
     "tableResultSettingsMap": {},
     "title": ""
    }
   },
   "outputs": [],
   "source": [
    "from pyspark.sql.types import StructType, StringType, TimestampType\n",
    "from pyspark.sql.functions import col\n",
    "\n",
    "# Define the schema for the JSON input\n",
    "schema = StructType() \\\n",
    "    .add(\"user_id\", StringType()) \\\n",
    "    .add(\"page\", StringType()) \\\n",
    "    .add(\"timestamp\", StringType())  # We'll cast this to TimestampType\n",
    "\n",
    "# Read streaming input\n",
    "input_path = \"/tmp/clickstream/input/\"\n",
    "\n",
    "stream_df = (\n",
    "    spark.readStream\n",
    "    .format(\"json\")\n",
    "    .schema(schema)\n",
    "    .load(input_path)\n",
    ")\n"
   ]
  },
  {
   "cell_type": "code",
   "execution_count": 0,
   "metadata": {
    "application/vnd.databricks.v1+cell": {
     "cellMetadata": {
      "byteLimit": 2048000,
      "rowLimit": 10000
     },
     "inputWidgets": {},
     "nuid": "133705e9-cde3-4773-b365-f491a5c3939b",
     "showTitle": false,
     "tableResultSettingsMap": {},
     "title": ""
    }
   },
   "outputs": [],
   "source": [
    "# Convert timestamp string to proper timestamp type\n",
    "clean_df = stream_df.withColumn(\"timestamp\", col(\"timestamp\").cast(TimestampType()))\n"
   ]
  },
  {
   "cell_type": "code",
   "execution_count": 0,
   "metadata": {
    "application/vnd.databricks.v1+cell": {
     "cellMetadata": {
      "byteLimit": 2048000,
      "rowLimit": 10000
     },
     "inputWidgets": {},
     "nuid": "d9021ccd-52d6-42d7-99e1-13cb02042c73",
     "showTitle": false,
     "tableResultSettingsMap": {},
     "title": ""
    }
   },
   "outputs": [],
   "source": [
    "output_path = \"/tmp/clickstream/output/\"\n",
    "checkpoint_path = \"/tmp/clickstream/checkpoint/\"\n",
    "\n",
    "query = (\n",
    "    clean_df.writeStream\n",
    "    .format(\"delta\")\n",
    "    .option(\"checkpointLocation\", checkpoint_path)\n",
    "    .outputMode(\"append\")\n",
    "    .start(output_path)\n",
    ")\n"
   ]
  },
  {
   "cell_type": "code",
   "execution_count": 0,
   "metadata": {
    "application/vnd.databricks.v1+cell": {
     "cellMetadata": {
      "byteLimit": 2048000,
      "rowLimit": 10000
     },
     "inputWidgets": {},
     "nuid": "3725c7f1-a6f0-4ad1-958c-7b5b4e3c908b",
     "showTitle": false,
     "tableResultSettingsMap": {},
     "title": ""
    }
   },
   "outputs": [],
   "source": [
    "from pyspark.sql.functions import count\n",
    "\n",
    "df = spark.read.format(\"delta\").load(\"/tmp/clickstream/output/\")\n",
    "df.createOrReplaceTempView(\"clickstream_data\")\n"
   ]
  },
  {
   "cell_type": "code",
   "execution_count": 0,
   "metadata": {
    "application/vnd.databricks.v1+cell": {
     "cellMetadata": {
      "byteLimit": 2048000,
      "implicitDf": true,
      "rowLimit": 10000
     },
     "inputWidgets": {},
     "nuid": "4acff049-e44b-425d-8b37-86aa35f88a4c",
     "showTitle": false,
     "tableResultSettingsMap": {},
     "title": ""
    }
   },
   "outputs": [
    {
     "data": {
      "text/html": [
       "<style scoped>\n",
       "  .table-result-container {\n",
       "    max-height: 300px;\n",
       "    overflow: auto;\n",
       "  }\n",
       "  table, th, td {\n",
       "    border: 1px solid black;\n",
       "    border-collapse: collapse;\n",
       "  }\n",
       "  th, td {\n",
       "    padding: 5px;\n",
       "  }\n",
       "  th {\n",
       "    text-align: left;\n",
       "  }\n",
       "</style><div class='table-result-container'><table class='table-result'><thead style='background-color: white'><tr><th>page</th><th>total_clicks</th></tr></thead><tbody><tr><td>checkout</td><td>12</td></tr><tr><td>home</td><td>11</td></tr><tr><td>cart</td><td>6</td></tr><tr><td>about</td><td>6</td></tr><tr><td>product</td><td>5</td></tr></tbody></table></div>"
      ]
     },
     "metadata": {
      "application/vnd.databricks.v1+output": {
       "addedWidgets": {},
       "aggData": [],
       "aggError": "",
       "aggOverflow": false,
       "aggSchema": [],
       "aggSeriesLimitReached": false,
       "aggType": "",
       "arguments": {},
       "columnCustomDisplayInfos": {},
       "data": [
        [
         "checkout",
         12
        ],
        [
         "home",
         11
        ],
        [
         "cart",
         6
        ],
        [
         "about",
         6
        ],
        [
         "product",
         5
        ]
       ],
       "datasetInfos": [],
       "dbfsResultPath": null,
       "isJsonSchema": true,
       "metadata": {
        "dataframeName": "_sqldf",
        "executionCount": 15
       },
       "overflow": false,
       "plotOptions": {
        "customPlotOptions": {},
        "displayType": "table",
        "pivotAggregation": null,
        "pivotColumns": null,
        "xColumns": null,
        "yColumns": null
       },
       "removedWidgets": [],
       "schema": [
        {
         "metadata": "{}",
         "name": "page",
         "type": "\"string\""
        },
        {
         "metadata": "{}",
         "name": "total_clicks",
         "type": "\"long\""
        }
       ],
       "type": "table"
      }
     },
     "output_type": "display_data"
    }
   ],
   "source": [
    "%sql\n",
    "SELECT page, COUNT(*) AS total_clicks\n",
    "FROM clickstream_data\n",
    "GROUP BY page\n",
    "ORDER BY total_clicks DESC\n"
   ]
  },
  {
   "cell_type": "code",
   "execution_count": 0,
   "metadata": {
    "application/vnd.databricks.v1+cell": {
     "cellMetadata": {
      "byteLimit": 2048000,
      "implicitDf": true,
      "rowLimit": 10000
     },
     "inputWidgets": {},
     "nuid": "64264120-961f-409f-a6f1-76d47e9e3b6a",
     "showTitle": false,
     "tableResultSettingsMap": {},
     "title": ""
    }
   },
   "outputs": [
    {
     "data": {
      "text/html": [
       "<style scoped>\n",
       "  .table-result-container {\n",
       "    max-height: 300px;\n",
       "    overflow: auto;\n",
       "  }\n",
       "  table, th, td {\n",
       "    border: 1px solid black;\n",
       "    border-collapse: collapse;\n",
       "  }\n",
       "  th, td {\n",
       "    padding: 5px;\n",
       "  }\n",
       "  th {\n",
       "    text-align: left;\n",
       "  }\n",
       "</style><div class='table-result-container'><table class='table-result'><thead style='background-color: white'><tr><th>user_id</th><th>events</th></tr></thead><tbody><tr><td>david</td><td>12</td></tr><tr><td>charlie</td><td>12</td></tr><tr><td>alice</td><td>9</td></tr><tr><td>bob</td><td>7</td></tr></tbody></table></div>"
      ]
     },
     "metadata": {
      "application/vnd.databricks.v1+output": {
       "addedWidgets": {},
       "aggData": [],
       "aggError": "",
       "aggOverflow": false,
       "aggSchema": [],
       "aggSeriesLimitReached": false,
       "aggType": "",
       "arguments": {},
       "columnCustomDisplayInfos": {},
       "data": [
        [
         "david",
         12
        ],
        [
         "charlie",
         12
        ],
        [
         "alice",
         9
        ],
        [
         "bob",
         7
        ]
       ],
       "datasetInfos": [],
       "dbfsResultPath": null,
       "isJsonSchema": true,
       "metadata": {
        "dataframeName": "_sqldf",
        "executionCount": 17
       },
       "overflow": false,
       "plotOptions": {
        "customPlotOptions": {},
        "displayType": "table",
        "pivotAggregation": null,
        "pivotColumns": null,
        "xColumns": null,
        "yColumns": null
       },
       "removedWidgets": [],
       "schema": [
        {
         "metadata": "{}",
         "name": "user_id",
         "type": "\"string\""
        },
        {
         "metadata": "{}",
         "name": "events",
         "type": "\"long\""
        }
       ],
       "type": "table"
      }
     },
     "output_type": "display_data"
    }
   ],
   "source": [
    "%sql\n",
    "SELECT user_id, COUNT(*) AS events\n",
    "FROM clickstream_data\n",
    "GROUP BY user_id\n",
    "ORDER BY events DESC\n"
   ]
  },
  {
   "cell_type": "code",
   "execution_count": 0,
   "metadata": {
    "application/vnd.databricks.v1+cell": {
     "cellMetadata": {
      "byteLimit": 2048000,
      "implicitDf": true,
      "rowLimit": 10000
     },
     "inputWidgets": {},
     "nuid": "0c9a2079-646f-4bf8-8b9c-ef5bcf8eac4d",
     "showTitle": false,
     "tableResultSettingsMap": {},
     "title": ""
    }
   },
   "outputs": [
    {
     "data": {
      "text/html": [
       "<style scoped>\n",
       "  .table-result-container {\n",
       "    max-height: 300px;\n",
       "    overflow: auto;\n",
       "  }\n",
       "  table, th, td {\n",
       "    border: 1px solid black;\n",
       "    border-collapse: collapse;\n",
       "  }\n",
       "  th, td {\n",
       "    padding: 5px;\n",
       "  }\n",
       "  th {\n",
       "    text-align: left;\n",
       "  }\n",
       "</style><div class='table-result-container'><table class='table-result'><thead style='background-color: white'><tr><th>user_id</th><th>page</th><th>timestamp</th></tr></thead><tbody><tr><td>charlie</td><td>checkout</td><td>2025-08-02T18:04:48.96236Z</td></tr><tr><td>david</td><td>checkout</td><td>2025-08-02T18:04:46.883422Z</td></tr><tr><td>alice</td><td>about</td><td>2025-08-02T18:04:44.791391Z</td></tr><tr><td>alice</td><td>product</td><td>2025-08-02T18:04:42.724713Z</td></tr><tr><td>charlie</td><td>home</td><td>2025-08-02T18:04:40.649998Z</td></tr><tr><td>bob</td><td>home</td><td>2025-08-02T18:04:38.575405Z</td></tr><tr><td>alice</td><td>about</td><td>2025-08-02T18:04:36.512612Z</td></tr><tr><td>charlie</td><td>about</td><td>2025-08-02T18:04:34.411231Z</td></tr><tr><td>bob</td><td>cart</td><td>2025-08-02T18:04:32.255589Z</td></tr><tr><td>bob</td><td>home</td><td>2025-08-02T18:04:30.19083Z</td></tr></tbody></table></div>"
      ]
     },
     "metadata": {
      "application/vnd.databricks.v1+output": {
       "addedWidgets": {},
       "aggData": [],
       "aggError": "",
       "aggOverflow": false,
       "aggSchema": [],
       "aggSeriesLimitReached": false,
       "aggType": "",
       "arguments": {},
       "columnCustomDisplayInfos": {},
       "data": [
        [
         "charlie",
         "checkout",
         "2025-08-02T18:04:48.96236Z"
        ],
        [
         "david",
         "checkout",
         "2025-08-02T18:04:46.883422Z"
        ],
        [
         "alice",
         "about",
         "2025-08-02T18:04:44.791391Z"
        ],
        [
         "alice",
         "product",
         "2025-08-02T18:04:42.724713Z"
        ],
        [
         "charlie",
         "home",
         "2025-08-02T18:04:40.649998Z"
        ],
        [
         "bob",
         "home",
         "2025-08-02T18:04:38.575405Z"
        ],
        [
         "alice",
         "about",
         "2025-08-02T18:04:36.512612Z"
        ],
        [
         "charlie",
         "about",
         "2025-08-02T18:04:34.411231Z"
        ],
        [
         "bob",
         "cart",
         "2025-08-02T18:04:32.255589Z"
        ],
        [
         "bob",
         "home",
         "2025-08-02T18:04:30.19083Z"
        ]
       ],
       "datasetInfos": [],
       "dbfsResultPath": null,
       "isJsonSchema": true,
       "metadata": {
        "dataframeName": "_sqldf",
        "executionCount": 19
       },
       "overflow": false,
       "plotOptions": {
        "customPlotOptions": {},
        "displayType": "table",
        "pivotAggregation": null,
        "pivotColumns": null,
        "xColumns": null,
        "yColumns": null
       },
       "removedWidgets": [],
       "schema": [
        {
         "metadata": "{}",
         "name": "user_id",
         "type": "\"string\""
        },
        {
         "metadata": "{}",
         "name": "page",
         "type": "\"string\""
        },
        {
         "metadata": "{}",
         "name": "timestamp",
         "type": "\"timestamp\""
        }
       ],
       "type": "table"
      }
     },
     "output_type": "display_data"
    }
   ],
   "source": [
    "%sql\n",
    "SELECT *\n",
    "FROM clickstream_data\n",
    "ORDER BY timestamp DESC\n",
    "LIMIT 10\n"
   ]
  },
  {
   "cell_type": "code",
   "execution_count": 0,
   "metadata": {
    "application/vnd.databricks.v1+cell": {
     "cellMetadata": {
      "byteLimit": 2048000,
      "rowLimit": 10000
     },
     "inputWidgets": {},
     "nuid": "c2fe9c08-9540-49c2-bbef-bdd40d589561",
     "showTitle": false,
     "tableResultSettingsMap": {},
     "title": ""
    }
   },
   "outputs": [
    {
     "name": "stdout",
     "output_type": "stream",
     "text": [
      "+-------+--------+--------------------------+\n",
      "|user_id|page    |timestamp                 |\n",
      "+-------+--------+--------------------------+\n",
      "|charlie|checkout|2025-08-02 18:04:48.96236 |\n",
      "|david  |checkout|2025-08-02 18:04:46.883422|\n",
      "|alice  |about   |2025-08-02 18:04:44.791391|\n",
      "|alice  |product |2025-08-02 18:04:42.724713|\n",
      "|charlie|home    |2025-08-02 18:04:40.649998|\n",
      "|bob    |home    |2025-08-02 18:04:38.575405|\n",
      "|alice  |about   |2025-08-02 18:04:36.512612|\n",
      "|charlie|about   |2025-08-02 18:04:34.411231|\n",
      "|bob    |cart    |2025-08-02 18:04:32.255589|\n",
      "|bob    |home    |2025-08-02 18:04:30.19083 |\n",
      "+-------+--------+--------------------------+\n",
      "only showing top 10 rows\n",
      "\n"
     ]
    }
   ],
   "source": [
    "df.orderBy(\"timestamp\", ascending=False).show(10, truncate=False)\n"
   ]
  },
  {
   "cell_type": "code",
   "execution_count": 0,
   "metadata": {
    "application/vnd.databricks.v1+cell": {
     "cellMetadata": {},
     "inputWidgets": {},
     "nuid": "45694ae4-2892-4342-ad67-8bc325288135",
     "showTitle": false,
     "tableResultSettingsMap": {},
     "title": ""
    }
   },
   "outputs": [],
   "source": []
  }
 ],
 "metadata": {
  "application/vnd.databricks.v1+notebook": {
   "computePreferences": null,
   "dashboards": [],
   "environmentMetadata": {
    "base_environment": "",
    "environment_version": "2"
   },
   "inputWidgetPreferences": null,
   "language": "python",
   "notebookMetadata": {
    "mostRecentlyExecutedCommandWithImplicitDF": {
     "commandId": 8298832024757048,
     "dataframes": [
      "_sqldf"
     ]
    },
    "pythonIndentUnit": 4
   },
   "notebookName": "Clicks streaming",
   "widgets": {}
  },
  "language_info": {
   "name": "python"
  }
 },
 "nbformat": 4,
 "nbformat_minor": 0
}
